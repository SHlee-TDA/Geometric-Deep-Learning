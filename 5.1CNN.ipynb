{
 "cells": [
  {
   "cell_type": "code",
   "execution_count": 217,
   "metadata": {},
   "outputs": [
    {
     "data": {
      "text/plain": [
       "{(1, 'a'),\n",
       " (1, 'b'),\n",
       " (1, 'c'),\n",
       " (2, 'a'),\n",
       " (2, 'b'),\n",
       " (2, 'c'),\n",
       " (3, 'a'),\n",
       " (3, 'b'),\n",
       " (3, 'c')}"
      ]
     },
     "execution_count": 217,
     "metadata": {},
     "output_type": "execute_result"
    }
   ],
   "source": [
    "import numpy as np\n",
    "import matplotlib.pyplot as plt\n",
    "import seaborn as sns\n",
    "from itertools import product\n",
    "\n",
    "\n",
    "## Example : itertools.product \n",
    "A = set([1,2,3])\n",
    "B = set(['a','b','c'])\n",
    "AxB = set(product(A,B))\n",
    "AxB"
   ]
  },
  {
   "cell_type": "markdown",
   "metadata": {},
   "source": [
    "# 5.1 Convolutional Neural Networks\n",
    "\n",
    "Let $\\mathbf{x} \\in \\mathcal{X}\\left(\\Omega, \\mathbb{R}\\right)$ be a grayscale image on the grid domain $\\Omega = [H] \\times [W]$ with $\\mathbb{u}=(u_1, u_2)$.\n",
    "\n",
    "My python function `generate_grid` generates a `list` consisting of `tuple`s which indicate elements of grid $\\Omega$ of size $h\\times w$.\n",
    "\n",
    "In general, image data is represented as a $h \\times w$-matrix.\n",
    "However, the author emphasizes that image is a function on grid.\n",
    "Thus, we define an image data as an one-to-one correspondence between grid and real-value.\n",
    "The `dictionary` type data is suitable to represent any one-to-one correspondence.\n",
    "Thus, I define an image as a `dictionary` whose `keys` are `tuple`s in grid `list` and `values` are grayscales."
   ]
  },
  {
   "cell_type": "code",
   "execution_count": 227,
   "metadata": {},
   "outputs": [],
   "source": [
    "# Generate grid\n",
    "def generate_grid(h,w):\n",
    "    H = range(h)\n",
    "    W = range(w)\n",
    "    Omega = list(product(H,W))\n",
    "    return Omega\n",
    "\n",
    "def example_image(Grid):\n",
    "    image = {}\n",
    "    for u in Grid:\n",
    "        u1, u2 = u\n",
    "        image[u] = u1%3 + u2%3\n",
    "    return image\n",
    "\n",
    "\n",
    "# This function transforms our dictionary type image to typical numpy array type image.\n",
    "def image_visualization(image_X):\n",
    "    Omega = list(image_X.keys())\n",
    "    values = image_X.values()\n",
    "    h,w = Omega[-1]\n",
    "    visualize_image = np.zeros((h+1,w+1))\n",
    "    for u,x in zip(Omega,values):\n",
    "        visualize_image[u] = x\n",
    "    return visualize_image"
   ]
  },
  {
   "cell_type": "code",
   "execution_count": 228,
   "metadata": {},
   "outputs": [
    {
     "name": "stdout",
     "output_type": "stream",
     "text": [
      "{(0, 0): 0, (0, 1): 1, (0, 2): 2, (0, 3): 0, (1, 0): 1, (1, 1): 2, (1, 2): 3, (1, 3): 1, (2, 0): 2, (2, 1): 3, (2, 2): 4, (2, 3): 2, (3, 0): 0, (3, 1): 1, (3, 2): 2, (3, 3): 0}\n"
     ]
    }
   ],
   "source": [
    "# Example\n",
    "\n",
    "Omega = generate_grid(4,4)\n",
    "image = example_image(Omega)\n",
    "print(image)"
   ]
  },
  {
   "cell_type": "code",
   "execution_count": 229,
   "metadata": {},
   "outputs": [
    {
     "name": "stdout",
     "output_type": "stream",
     "text": [
      "[[0. 1. 2. 0.]\n",
      " [1. 2. 3. 1.]\n",
      " [2. 3. 4. 2.]\n",
      " [0. 1. 2. 0.]]\n"
     ]
    }
   ],
   "source": [
    "numpy_image = image_visualization(image)\n",
    "print(numpy_image)"
   ]
  },
  {
   "cell_type": "code",
   "execution_count": 233,
   "metadata": {},
   "outputs": [
    {
     "data": {
      "text/plain": [
       "(0.0, 4.0, 4.0, 0.0)"
      ]
     },
     "execution_count": 233,
     "metadata": {},
     "output_type": "execute_result"
    },
    {
     "data": {
      "image/png": "[encoded data removed]",
      "text/plain": [
       "<Figure size 432x288 with 2 Axes>"
      ]
     },
     "metadata": {
      "needs_background": "light"
     },
     "output_type": "display_data"
    }
   ],
   "source": [
    "sns.heatmap(numpy_image, annot=True, cmap = 'binary')\n",
    "plt.axis('off')"
   ]
  },
  {
   "cell_type": "code",
   "execution_count": 235,
   "metadata": {},
   "outputs": [],
   "source": [
    "## Figure 14 in p.69.\n",
    "\n",
    "def fig14_img(Grid):\n",
    "    image = {}\n",
    "\n",
    "\n",
    "    for u in Grid:\n",
    "        u1, u2 = u\n",
    "        if (u1 < 3) & (u1 < u2) & (u2 < u1 + 4):\n",
    "            value = 1\n",
    "        elif (u1 >= 3) & ((u1 + u2 ==6) or (u1 + u2 ==7)):\n",
    "            value = 1\n",
    "        else :\n",
    "            value = 0\n",
    "            \n",
    "        image[u] = value\n",
    "    return image"
   ]
  },
  {
   "cell_type": "code",
   "execution_count": 236,
   "metadata": {},
   "outputs": [
    {
     "data": {
      "text/plain": [
       "(0.0, 7.0, 7.0, 0.0)"
      ]
     },
     "execution_count": 236,
     "metadata": {},
     "output_type": "execute_result"
    },
    {
     "data": {
      "image/png": "[encoded data removed]",
      "text/plain": [
       "<Figure size 432x288 with 2 Axes>"
      ]
     },
     "metadata": {
      "needs_background": "light"
     },
     "output_type": "display_data"
    }
   ],
   "source": [
    "Omega = generate_grid(7,7)\n",
    "fig14 = fig14_img(Omega)\n",
    "img_fig14= image_visualization(fig14)\n",
    "sns.heatmap(img_fig14, annot = True, cmap = 'binary')\n",
    "plt.axis('off')"
   ]
  },
  {
   "cell_type": "markdown",
   "metadata": {},
   "source": [
    "\n",
    "Any convolution with a complactly supported filter of size $H^f \\times W^f$ can be written as a *linear combination of generators* $\\theta_{1,1}, \\ldots, \\theta_{H^f,W^f}$, given for example by the unit peaks $\\theta_{vw}(u_1, u_2) = \\delta(u_1 - v, u_2 -w)$.\n",
    "Here, $\\delta$ is a *discrete Direc delta function*, that is, \n",
    "$$ \\delta(u_1, u_2) = \\begin{cases} 1 & \\text{ if $(u_1, u_2) = (0,0)$}\\\\ 0 & \\text{ o/w }\\end{cases}.$$\n",
    "\n",
    "For image $\\mathbf{x}$ and filter $\\theta$, the convolution $(\\mathbf{x}\\star \\theta)$ is defined as $$(\\mathbf{x} \\star \\theta)(u_1,u_2) = \\sum_{(a,b) \\in \\Omega} x{(a,b)}\\theta{(a-u_1,b-u_2)}$$ where $(u_1,u_2)$ is in the compactly support of $\\theta$.\n",
    "\n",
    "Note that the operator $\\theta_{vw}$ makes the image $\\mathbf{x}$ translated along $v,w$ direction.  "
   ]
  },
  {
   "cell_type": "code",
   "execution_count": 267,
   "metadata": {},
   "outputs": [],
   "source": [
    "def unit_peak_filters(H_f,W_f,image):\n",
    "    Grid = list(image.keys())\n",
    "    x_values = list(image.values())\n",
    "\n",
    "    h, w = Grid[-1]\n",
    "    h += 1\n",
    "    w += 1\n",
    "\n",
    "    # here theta_vw is the unit peak function.\n",
    "    def theta_vw(v,w,u):\n",
    "        u1, u2 = u\n",
    "        if (u1-v == 0) & (u2-w == 0):\n",
    "            value = 1\n",
    "        else :\n",
    "            value = 0 \n",
    "        return value\n",
    "\n",
    "\n",
    "    generators = []\n",
    "\n",
    "    # We consider the image of thetas on only its compact support. \n",
    "    cpt_supp = generate_grid(h-H_f+1, w-W_f+1)\n",
    "\n",
    "    # choose a generator.\n",
    "    for v in range(H_f):\n",
    "        for w in range(W_f):\n",
    "            # compute the convolution of image and the filter.\n",
    "            convolution = {}\n",
    "            for u in cpt_supp:\n",
    "                u = np.array(u)\n",
    "                theta_values = np.array([theta_vw(v,w,np.array(g)-u) for g in Grid])\n",
    "                u = tuple(u)\n",
    "                convolution[u] = np.inner(theta_values, x_values)\n",
    "            generators.append(convolution)\n",
    "    return generators"
   ]
  },
  {
   "cell_type": "code",
   "execution_count": 268,
   "metadata": {},
   "outputs": [
    {
     "data": {
      "text/plain": [
       "[{(0, 0): 0,\n",
       "  (0, 1): 1,\n",
       "  (0, 2): 1,\n",
       "  (0, 3): 1,\n",
       "  (0, 4): 0,\n",
       "  (1, 0): 0,\n",
       "  (1, 1): 0,\n",
       "  (1, 2): 1,\n",
       "  (1, 3): 1,\n",
       "  (1, 4): 1,\n",
       "  (2, 0): 0,\n",
       "  (2, 1): 0,\n",
       "  (2, 2): 0,\n",
       "  (2, 3): 1,\n",
       "  (2, 4): 1,\n",
       "  (3, 0): 0,\n",
       "  (3, 1): 0,\n",
       "  (3, 2): 0,\n",
       "  (3, 3): 1,\n",
       "  (3, 4): 1,\n",
       "  (4, 0): 0,\n",
       "  (4, 1): 0,\n",
       "  (4, 2): 1,\n",
       "  (4, 3): 1,\n",
       "  (4, 4): 0},\n",
       " {(0, 0): 1,\n",
       "  (0, 1): 1,\n",
       "  (0, 2): 1,\n",
       "  (0, 3): 0,\n",
       "  (0, 4): 0,\n",
       "  (1, 0): 0,\n",
       "  (1, 1): 1,\n",
       "  (1, 2): 1,\n",
       "  (1, 3): 1,\n",
       "  (1, 4): 0,\n",
       "  (2, 0): 0,\n",
       "  (2, 1): 0,\n",
       "  (2, 2): 1,\n",
       "  (2, 3): 1,\n",
       "  (2, 4): 1,\n",
       "  (3, 0): 0,\n",
       "  (3, 1): 0,\n",
       "  (3, 2): 1,\n",
       "  (3, 3): 1,\n",
       "  (3, 4): 0,\n",
       "  (4, 0): 0,\n",
       "  (4, 1): 1,\n",
       "  (4, 2): 1,\n",
       "  (4, 3): 0,\n",
       "  (4, 4): 0},\n",
       " {(0, 0): 1,\n",
       "  (0, 1): 1,\n",
       "  (0, 2): 0,\n",
       "  (0, 3): 0,\n",
       "  (0, 4): 0,\n",
       "  (1, 0): 1,\n",
       "  (1, 1): 1,\n",
       "  (1, 2): 1,\n",
       "  (1, 3): 0,\n",
       "  (1, 4): 0,\n",
       "  (2, 0): 0,\n",
       "  (2, 1): 1,\n",
       "  (2, 2): 1,\n",
       "  (2, 3): 1,\n",
       "  (2, 4): 0,\n",
       "  (3, 0): 0,\n",
       "  (3, 1): 1,\n",
       "  (3, 2): 1,\n",
       "  (3, 3): 0,\n",
       "  (3, 4): 0,\n",
       "  (4, 0): 1,\n",
       "  (4, 1): 1,\n",
       "  (4, 2): 0,\n",
       "  (4, 3): 0,\n",
       "  (4, 4): 0},\n",
       " {(0, 0): 0,\n",
       "  (0, 1): 0,\n",
       "  (0, 2): 1,\n",
       "  (0, 3): 1,\n",
       "  (0, 4): 1,\n",
       "  (1, 0): 0,\n",
       "  (1, 1): 0,\n",
       "  (1, 2): 0,\n",
       "  (1, 3): 1,\n",
       "  (1, 4): 1,\n",
       "  (2, 0): 0,\n",
       "  (2, 1): 0,\n",
       "  (2, 2): 0,\n",
       "  (2, 3): 1,\n",
       "  (2, 4): 1,\n",
       "  (3, 0): 0,\n",
       "  (3, 1): 0,\n",
       "  (3, 2): 1,\n",
       "  (3, 3): 1,\n",
       "  (3, 4): 0,\n",
       "  (4, 0): 0,\n",
       "  (4, 1): 1,\n",
       "  (4, 2): 1,\n",
       "  (4, 3): 0,\n",
       "  (4, 4): 0},\n",
       " {(0, 0): 0,\n",
       "  (0, 1): 1,\n",
       "  (0, 2): 1,\n",
       "  (0, 3): 1,\n",
       "  (0, 4): 0,\n",
       "  (1, 0): 0,\n",
       "  (1, 1): 0,\n",
       "  (1, 2): 1,\n",
       "  (1, 3): 1,\n",
       "  (1, 4): 1,\n",
       "  (2, 0): 0,\n",
       "  (2, 1): 0,\n",
       "  (2, 2): 1,\n",
       "  (2, 3): 1,\n",
       "  (2, 4): 0,\n",
       "  (3, 0): 0,\n",
       "  (3, 1): 1,\n",
       "  (3, 2): 1,\n",
       "  (3, 3): 0,\n",
       "  (3, 4): 0,\n",
       "  (4, 0): 1,\n",
       "  (4, 1): 1,\n",
       "  (4, 2): 0,\n",
       "  (4, 3): 0,\n",
       "  (4, 4): 0},\n",
       " {(0, 0): 1,\n",
       "  (0, 1): 1,\n",
       "  (0, 2): 1,\n",
       "  (0, 3): 0,\n",
       "  (0, 4): 0,\n",
       "  (1, 0): 0,\n",
       "  (1, 1): 1,\n",
       "  (1, 2): 1,\n",
       "  (1, 3): 1,\n",
       "  (1, 4): 0,\n",
       "  (2, 0): 0,\n",
       "  (2, 1): 1,\n",
       "  (2, 2): 1,\n",
       "  (2, 3): 0,\n",
       "  (2, 4): 0,\n",
       "  (3, 0): 1,\n",
       "  (3, 1): 1,\n",
       "  (3, 2): 0,\n",
       "  (3, 3): 0,\n",
       "  (3, 4): 0,\n",
       "  (4, 0): 1,\n",
       "  (4, 1): 0,\n",
       "  (4, 2): 0,\n",
       "  (4, 3): 0,\n",
       "  (4, 4): 0},\n",
       " {(0, 0): 0,\n",
       "  (0, 1): 0,\n",
       "  (0, 2): 0,\n",
       "  (0, 3): 1,\n",
       "  (0, 4): 1,\n",
       "  (1, 0): 0,\n",
       "  (1, 1): 0,\n",
       "  (1, 2): 0,\n",
       "  (1, 3): 1,\n",
       "  (1, 4): 1,\n",
       "  (2, 0): 0,\n",
       "  (2, 1): 0,\n",
       "  (2, 2): 1,\n",
       "  (2, 3): 1,\n",
       "  (2, 4): 0,\n",
       "  (3, 0): 0,\n",
       "  (3, 1): 1,\n",
       "  (3, 2): 1,\n",
       "  (3, 3): 0,\n",
       "  (3, 4): 0,\n",
       "  (4, 0): 1,\n",
       "  (4, 1): 1,\n",
       "  (4, 2): 0,\n",
       "  (4, 3): 0,\n",
       "  (4, 4): 0},\n",
       " {(0, 0): 0,\n",
       "  (0, 1): 0,\n",
       "  (0, 2): 1,\n",
       "  (0, 3): 1,\n",
       "  (0, 4): 1,\n",
       "  (1, 0): 0,\n",
       "  (1, 1): 0,\n",
       "  (1, 2): 1,\n",
       "  (1, 3): 1,\n",
       "  (1, 4): 0,\n",
       "  (2, 0): 0,\n",
       "  (2, 1): 1,\n",
       "  (2, 2): 1,\n",
       "  (2, 3): 0,\n",
       "  (2, 4): 0,\n",
       "  (3, 0): 1,\n",
       "  (3, 1): 1,\n",
       "  (3, 2): 0,\n",
       "  (3, 3): 0,\n",
       "  (3, 4): 0,\n",
       "  (4, 0): 1,\n",
       "  (4, 1): 0,\n",
       "  (4, 2): 0,\n",
       "  (4, 3): 0,\n",
       "  (4, 4): 0},\n",
       " {(0, 0): 0,\n",
       "  (0, 1): 1,\n",
       "  (0, 2): 1,\n",
       "  (0, 3): 1,\n",
       "  (0, 4): 0,\n",
       "  (1, 0): 0,\n",
       "  (1, 1): 1,\n",
       "  (1, 2): 1,\n",
       "  (1, 3): 0,\n",
       "  (1, 4): 0,\n",
       "  (2, 0): 1,\n",
       "  (2, 1): 1,\n",
       "  (2, 2): 0,\n",
       "  (2, 3): 0,\n",
       "  (2, 4): 0,\n",
       "  (3, 0): 1,\n",
       "  (3, 1): 0,\n",
       "  (3, 2): 0,\n",
       "  (3, 3): 0,\n",
       "  (3, 4): 0,\n",
       "  (4, 0): 0,\n",
       "  (4, 1): 0,\n",
       "  (4, 2): 0,\n",
       "  (4, 3): 0,\n",
       "  (4, 4): 0}]"
      ]
     },
     "execution_count": 268,
     "metadata": {},
     "output_type": "execute_result"
    }
   ],
   "source": [
    "thetas = unit_peak_filters(3,3,fig14)\n",
    "# Here, thetas contains 9 generators theta_(1,1), ... , theta_(3,3).\n",
    "thetas"
   ]
  },
  {
   "cell_type": "code",
   "execution_count": 269,
   "metadata": {},
   "outputs": [],
   "source": [
    "theta11 = image_visualization(thetas[0])\n",
    "theta13 = image_visualization(thetas[2])\n",
    "theta22 = image_visualization(thetas[4])\n",
    "theta31 = image_visualization(thetas[6])\n",
    "theta33 = image_visualization(thetas[8])"
   ]
  },
  {
   "cell_type": "code",
   "execution_count": 270,
   "metadata": {},
   "outputs": [
    {
     "data": {
      "text/plain": [
       "<AxesSubplot:>"
      ]
     },
     "execution_count": 270,
     "metadata": {},
     "output_type": "execute_result"
    },
    {
     "data": {
      "image/png": "[encoded data removed]",
      "text/plain": [
       "<Figure size 432x288 with 2 Axes>"
      ]
     },
     "metadata": {
      "needs_background": "light"
     },
     "output_type": "display_data"
    }
   ],
   "source": [
    "sns.heatmap(theta11, annot = True, cmap = 'binary')"
   ]
  },
  {
   "cell_type": "markdown",
   "metadata": {},
   "source": [
    "The convolution map $C(\\theta)\\mathbf{x}$ is defined as $\\mathbf{x}\\star\\theta$.\n",
    "And any local linear equivariant map is expressible as the linear combination of generators $\\theta_{1,1}, \\ldots, \\theta_{H^f, W^f}$ :\n",
    "$$ \\mathbf{F}(\\mathbf{x}) = \\sum_{v=1}^{H^f}\\sum_{w=1}^{W^f}\\alpha_{vw}C(\\theta_{vw})\\mathbf{x}.$$\n",
    "\n",
    "If your filter can be expressed as a matrix $\\begin{bmatrix}1 & 0 & 1\\\\ 0 & 1 & 0 \\\\ 1 & 0 & 1\\end{bmatrix} $, then  choose the coefficients $$\\alpha_{1,1} = 1, \\alpha_{1,2} = 0 , \\alpha_{1,3} = 1, \\alpha_{2,1} = 0, \\alpha_{2,2} = 1, \\alpha_{2,3} = 0, \\alpha_{3,1} = 1, \\alpha_{3,2} = 0, \\alpha_{3,3} = 1.$$"
   ]
  },
  {
   "cell_type": "code",
   "execution_count": 271,
   "metadata": {},
   "outputs": [
    {
     "data": {
      "text/plain": [
       "array([[1., 4., 3., 4., 1.],\n",
       "       [1., 2., 4., 3., 3.],\n",
       "       [1., 2., 3., 4., 1.],\n",
       "       [1., 3., 3., 1., 1.],\n",
       "       [3., 3., 1., 1., 0.]])"
      ]
     },
     "execution_count": 271,
     "metadata": {},
     "output_type": "execute_result"
    }
   ],
   "source": [
    "alphas = np.array([1,0,1,0,1,0,1,0,1])\n",
    "numpy_images = np.array([image_visualization(theta) for theta in thetas])\n",
    "\n",
    "Fx = np.sum([alphas[i]*numpy_images[i] for i in range(9)], axis = 0)\n",
    "Fx"
   ]
  },
  {
   "cell_type": "code",
   "execution_count": 273,
   "metadata": {},
   "outputs": [
    {
     "data": {
      "text/plain": [
       "(0.0, 5.0, 5.0, 0.0)"
      ]
     },
     "execution_count": 273,
     "metadata": {},
     "output_type": "execute_result"
    },
    {
     "data": {
      "image/png": "[encoded data removed]",
      "text/plain": [
       "<Figure size 432x288 with 2 Axes>"
      ]
     },
     "metadata": {
      "needs_background": "light"
     },
     "output_type": "display_data"
    }
   ],
   "source": [
    "sns.heatmap(Fx, annot = True, cmap = 'binary')\n",
    "plt.axis('off')"
   ]
  },
  {
   "cell_type": "markdown",
   "metadata": {},
   "source": [
    "Other choices of the basis $\\theta_{vw}$ are also possible and will yield equivalent operations (for potentially different choices of $\\alpha_{vw}$).\n",
    "\n",
    "A popular example are *directional derivatives* $\\theta_{vw}(u_1,u_2) = \\delta(u_1,u_2) - \\delta(u_1 - v, u_2 -w), (v,w) \\neq (0,0)$ taken together with the local average $\\theta_0 (u_1, u_2) = \\frac{1}{H_f W_f}$."
   ]
  },
  {
   "cell_type": "code",
   "execution_count": 274,
   "metadata": {},
   "outputs": [],
   "source": [
    "def directional_derivatives(H_f,W_f,image):\n",
    "    Grid = list(image.keys())\n",
    "    x_values = list(image.values())\n",
    "\n",
    "    h, w = Grid[-1]\n",
    "    h += 1\n",
    "    w += 1\n",
    "\n",
    "    \n",
    "\n",
    "    def theta_vw(v,w,u):\n",
    "        if (v,w) == (0,0) :\n",
    "            value = 1/(H_f*W_f)\n",
    "        else:\n",
    "            u1, u2 = u\n",
    "\n",
    "            if (u1 == 0) & (u2 == 0):\n",
    "                delta1 = 1\n",
    "            else :\n",
    "                delta1 = 0\n",
    "\n",
    "            if (u1-v == 0) & (u2-w == 0):\n",
    "                delta2 = 1\n",
    "            else :\n",
    "                delta2 = 0\n",
    "            \n",
    "            value = delta1 - delta2 \n",
    "        return value\n",
    "\n",
    "\n",
    "    generators = []\n",
    "    cpt_supp = generate_grid(h-H_f+1, w-W_f+1)\n",
    "\n",
    "    # choose a generator.\n",
    "    for v in range(H_f):\n",
    "        for w in range(W_f):\n",
    "            # compute the convolution of image and the filter.\n",
    "            \n",
    "            output = {}\n",
    "            for u in cpt_supp:\n",
    "                u = np.array(u)\n",
    "                theta_values = np.array([theta_vw(v,w,np.array(g)-u) for g in Grid])\n",
    "                u = tuple(u)\n",
    "                output[u] = np.inner(theta_values, x_values)\n",
    "            generators.append(output)\n",
    "    return generators"
   ]
  },
  {
   "cell_type": "code",
   "execution_count": 275,
   "metadata": {},
   "outputs": [],
   "source": [
    "thetas = directional_derivatives(3,3,fig14)"
   ]
  },
  {
   "cell_type": "code",
   "execution_count": 276,
   "metadata": {},
   "outputs": [
    {
     "data": {
      "text/plain": [
       "array([[1.88888889, 1.88888889, 1.88888889, 1.88888889, 1.88888889],\n",
       "       [1.88888889, 1.88888889, 1.88888889, 1.88888889, 1.88888889],\n",
       "       [1.88888889, 1.88888889, 1.88888889, 1.88888889, 1.88888889],\n",
       "       [1.88888889, 1.88888889, 1.88888889, 1.88888889, 1.88888889],\n",
       "       [1.88888889, 1.88888889, 1.88888889, 1.88888889, 1.88888889]])"
      ]
     },
     "execution_count": 276,
     "metadata": {},
     "output_type": "execute_result"
    }
   ],
   "source": [
    "image_visualization(thetas[0])"
   ]
  },
  {
   "cell_type": "code",
   "execution_count": 277,
   "metadata": {},
   "outputs": [
    {
     "data": {
      "text/plain": [
       "<AxesSubplot:>"
      ]
     },
     "execution_count": 277,
     "metadata": {},
     "output_type": "execute_result"
    },
    {
     "data": {
      "image/png": "[encoded data removed]",
      "text/plain": [
       "<Figure size 432x288 with 2 Axes>"
      ]
     },
     "metadata": {
      "needs_background": "light"
     },
     "output_type": "display_data"
    }
   ],
   "source": [
    "sns.heatmap(image_visualization(thetas[2]), annot = True, cmap = 'binary')"
   ]
  },
  {
   "cell_type": "code",
   "execution_count": null,
   "metadata": {},
   "outputs": [],
   "source": []
  }
 ],
 "metadata": {
  "interpreter": {
   "hash": "fd44a74d060108832760de77c5464f4356a1983905b5fe65fe90038958683030"
  },
  "kernelspec": {
   "display_name": "Python 3.8.12 ('tf25')",
   "language": "python",
   "name": "python3"
  },
  "language_info": {
   "codemirror_mode": {
    "name": "ipython",
    "version": 3
   },
   "file_extension": ".py",
   "mimetype": "text/x-python",
   "name": "python",
   "nbconvert_exporter": "python",
   "pygments_lexer": "ipython3",
   "version": "3.8.13"
  },
  "orig_nbformat": 4
 },
 "nbformat": 4,
 "nbformat_minor": 2
}
